{
 "cells": [
  {
   "cell_type": "markdown",
   "id": "5288ce78",
   "metadata": {},
   "source": [
    "### Create GIF"
   ]
  },
  {
   "cell_type": "code",
   "execution_count": null,
   "id": "a629733c",
   "metadata": {},
   "outputs": [],
   "source": [
    "import os\n",
    "import json\n",
    "import glob\n",
    "import imageio\n",
    "import numpy as np\n",
    "import matplotlib.pyplot as plt"
   ]
  },
  {
   "cell_type": "code",
   "execution_count": null,
   "id": "ffe4b6ba",
   "metadata": {},
   "outputs": [],
   "source": [
    "# ================= HELPER FUNCTIONS ===================\n",
    "# This function can preview a geometry data using matplot lib\n",
    "def preview_geometries_without_title(geometry_data, plot_threshold=0.25, save_plot_as_png=False, path_to_save=None):\n",
    "    # geometry_data must be an array of shape [32, 32, 64, 1]\n",
    "    \n",
    "    x = []\n",
    "    y = []\n",
    "    z = []\n",
    "\n",
    "    data = np.squeeze(geometry_data, axis=-1)\n",
    "    for i in range(0, len(data)):\n",
    "        for j in range(0, len(data[i])):\n",
    "            for k in range(0, len(data[i][j])):\n",
    "                if data[i][j][k] >= plot_threshold:\n",
    "                    x.append(i)\n",
    "                    y.append(j)\n",
    "                    z.append(k)\n",
    "\n",
    "    z_c = z\n",
    "\n",
    "    # We decided to plot the results with a gradient color map so the depth and geometries are clearer to see. \n",
    "    from matplotlib.colors import ListedColormap\n",
    "\n",
    "    N = 256\n",
    "    vals = np.ones((N, 4))\n",
    "    vals[:, 0] = np.linspace(1, 0, N)\n",
    "    vals[:, 1] = np.linspace(43/N, 43/N, N)\n",
    "    vals[:, 2] = np.linspace(82/N, 82/N, N)\n",
    "    custom_cmp = ListedColormap(vals)\n",
    "\n",
    "    fig = plt.figure(figsize=(5,5))\n",
    "    fig = plt.axes(projection='3d')\n",
    "    \n",
    "    # Data for three-dimensional scattered points\n",
    "    fig.scatter3D(np.array(x), np.array(y) * -1, np.array(z), cmap=custom_cmp, c=z_c)\n",
    "    fig.set_zlim(0,64)\n",
    "    fig.set_ylim(-64,0)\n",
    "    fig.set_xlim(0,64)\n",
    "    if (save_plot_as_png):\n",
    "        plt.savefig(path_to_save + '.png')"
   ]
  },
  {
   "cell_type": "code",
   "execution_count": null,
   "id": "fd1af16f",
   "metadata": {},
   "outputs": [],
   "source": [
    "# Preview the generated samples, save them as pngs and create gif\n",
    "def save_training_sequence_png(start_epoch, final_epoch, step, prediction_number, plot_threshold, directory_to_trained_samples, directory_to_save_gif):\n",
    "    try:\n",
    "        os.makedirs(directory_to_save_gif + \"pngs/\")\n",
    "    except FileExistsError:\n",
    "        print(\"The directory to save generated pngs already exists\")\n",
    "    for epoch in range(start_epoch, final_epoch, step):\n",
    "        file_path = directory_to_trained_samples + 'epoch_' + str(epoch) + '_prediction_' + str(prediction_number) + '.json'\n",
    "        with open(file_path) as json_file:\n",
    "            dictionary = json.load(json_file)\n",
    "            geometry = np.expand_dims(np.array(dictionary[\"geometry\"]), axis=-1)\n",
    "            preview_geometries_without_title(geometry, save_plot_as_png=True, path_to_save=directory_to_save_gif + \"pngs/\" + 'epoch_' + str(epoch) + '_prediction_' + str(prediction_number))\n",
    "            \n",
    "    anim_file_name = directory_to_save_gif + str(prediction_number) + '.gif'\n",
    "    with imageio.get_writer(anim_file_name, mode='I', duration = 0.1) as writer:\n",
    "        filenames = glob.glob(directory_to_save_gif + \"pngs/\" + '*.png')\n",
    "        filenames = sorted(filenames)\n",
    "        for filename in filenames:\n",
    "            image = imageio.imread(filename)\n",
    "            writer.append_data(image)"
   ]
  },
  {
   "cell_type": "code",
   "execution_count": null,
   "id": "b61aa62c",
   "metadata": {},
   "outputs": [],
   "source": [
    "folder_to_trained_samples = \"./mogan_train/samples/\"\n",
    "folder_to_save_gif = \"./mogan_train/gif/\""
   ]
  },
  {
   "cell_type": "code",
   "execution_count": null,
   "id": "618b28d7",
   "metadata": {},
   "outputs": [],
   "source": [
    "save_training_sequence_png(0, 30, 1, 1, 0.2, folder_to_trained_samples, folder_to_save_gif)"
   ]
  },
  {
   "cell_type": "markdown",
   "id": "8175dc2e",
   "metadata": {},
   "source": [
    "### Find Similar Chairs from Dataset"
   ]
  },
  {
   "cell_type": "code",
   "execution_count": null,
   "id": "dc7f3437",
   "metadata": {},
   "outputs": [],
   "source": [
    "import json\n",
    "import glob\n",
    "import numpy as np"
   ]
  },
  {
   "cell_type": "code",
   "execution_count": null,
   "id": "0b24f1e1",
   "metadata": {},
   "outputs": [],
   "source": [
    "# This function compares the l2 norm of the difference between the geometry and the geometries in the dataset\n",
    "\n",
    "def find_similar_from_dataset_geometry(geometry, directory_to_json_dataset, num_of_results_to_return_in_ascending_order=5):\n",
    "\n",
    "    # correctly format the geometry shape\n",
    "    if np.array(geometry).shape == (1, 32, 32, 64, 1):\n",
    "        geometry = np.squeeze(geometry, axis=0)\n",
    "    if np.array(geometry).shape == (32, 32, 64, 1):\n",
    "        geometry = np.squeeze(geometry, axis=-1)\n",
    "    \n",
    "    dataset_files = glob.glob(directory_to_json_dataset + \"*.json\")[:10]\n",
    "\n",
    "    mse_values_list = []\n",
    "\n",
    "    for ind, each_dataset_file in enumerate(dataset_files):\n",
    "        \n",
    "        with open(each_dataset_file) as json_file:\n",
    "            dictionary = json.load(json_file)\n",
    "        \n",
    "        temp_mse = np.mean(np.square(np.array(geometry) - np.array(dictionary[\"geometry\"])))\n",
    "        \n",
    "        mse_values_list.append((ind, temp_mse))\n",
    "    \n",
    "    dtype = [('file_path', int), ('mse', float)]\n",
    "    ordered_mse_values_array = np.sort(np.array(mse_values_list, dtype=dtype), order='mse')\n",
    "    \n",
    "    result = []\n",
    "    for ind, mse in ordered_mse_values_array[:num_of_results_to_return_in_ascending_order]:\n",
    "        result.append((dataset_files[ind], mse))\n",
    "  \n",
    "    return result"
   ]
  },
  {
   "cell_type": "code",
   "execution_count": null,
   "id": "e1366b31",
   "metadata": {},
   "outputs": [],
   "source": [
    "find_similar_from_dataset_geometry(np.random.rand(32,32,64), directory_to_json_dataset='./data/chair_voxel_dataset/')"
   ]
  },
  {
   "cell_type": "code",
   "execution_count": null,
   "id": "698c9d84",
   "metadata": {},
   "outputs": [],
   "source": []
  }
 ],
 "metadata": {
  "kernelspec": {
   "display_name": "Python 3 (ipykernel)",
   "language": "python",
   "name": "python3"
  },
  "language_info": {
   "codemirror_mode": {
    "name": "ipython",
    "version": 3
   },
   "file_extension": ".py",
   "mimetype": "text/x-python",
   "name": "python",
   "nbconvert_exporter": "python",
   "pygments_lexer": "ipython3",
   "version": "3.9.7"
  }
 },
 "nbformat": 4,
 "nbformat_minor": 5
}
